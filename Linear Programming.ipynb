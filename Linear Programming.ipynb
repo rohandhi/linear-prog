import pulp
#We have named our problem as 'my_lp_problem'. LpMaximize is used to provide optimal maximized solution.
my_lp_problem = pulp.LpProblem("My LP Problem", pulp.LpMaximize)
#We have initialised variables x and y and have set their lower and upper bound values using lowBound and UpBound.
#Cat=Category
x = pulp.LpVariable('x', lowBound=100, upBound=200, cat='Continuous')
y = pulp.LpVariable('y', lowBound=80, upBound=170, cat='Continuous')
#The objective function and constraints are added using the += operator to our model.
#The objective function is added first, then the individual constraints.
# Objective function
my_lp_problem += 5000*y - 2000*x, "Z"

# Constraints
my_lp_problem += 5000*y - 2000*x, "Z"

#We have now constructed our problem and can have a look at it.
my_lp_problem
#This is used to sove and provide the solution of my problem(my_lp_problem).
my_lp_problem.solve()
pulp.LpStatus[my_lp_problem.status]
#An optimal solution has been found.
#We can use the varValue method to retrieve the values of our variables x and y, and the pulp.value function to view the maximum value of the objective function.
for variable in my_lp_problem.variables():
    print ("{} = {}".format(variable.name, variable.varValue))
    #Answer after maximising the objective Z.
print (pulp.value(my_lp_problem.objective))
